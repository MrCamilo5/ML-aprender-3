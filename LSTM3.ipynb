{
  "nbformat": 4,
  "nbformat_minor": 0,
  "metadata": {
    "colab": {
      "name": "LSTM3.ipynb",
      "provenance": [],
      "authorship_tag": "ABX9TyP/kiDVF8g2VFNo4rG3lXxI",
      "include_colab_link": true
    },
    "kernelspec": {
      "name": "python3",
      "display_name": "Python 3"
    }
  },
  "cells": [
    {
      "cell_type": "markdown",
      "metadata": {
        "id": "view-in-github",
        "colab_type": "text"
      },
      "source": [
        "<a href=\"https://colab.research.google.com/github/MrCamilo5/ML-aprender-3/blob/master/LSTM3.ipynb\" target=\"_parent\"><img src=\"https://colab.research.google.com/assets/colab-badge.svg\" alt=\"Open In Colab\"/></a>"
      ]
    },
    {
      "cell_type": "code",
      "metadata": {
        "id": "l_igLD1spfMg",
        "colab_type": "code",
        "colab": {
          "base_uri": "https://localhost:8080/",
          "height": 80
        },
        "outputId": "3c1772db-2e47-4841-fe26-c736ddea20ca"
      },
      "source": [
        "import numpy as np \n",
        "import pandas as pd\n",
        "import matplotlib.pyplot as plt\n",
        "from statsmodels.tools.eval_measures import rmse\n",
        "from sklearn.preprocessing import  MinMaxScaler\n",
        "from keras.preprocessing.sequence import TimeseriesGenerator\n",
        "from keras.models import Sequential\n",
        "from keras.layers import Dense\n",
        "from keras.layers import LSTM\n",
        "from keras.layers import Dropout\n",
        "import warnings\n",
        "warnings.filterwarnings('ignore')"
      ],
      "execution_count": 1,
      "outputs": [
        {
          "output_type": "stream",
          "text": [
            "Using TensorFlow backend.\n"
          ],
          "name": "stderr"
        },
        {
          "output_type": "display_data",
          "data": {
            "text/html": [
              "<p style=\"color: red;\">\n",
              "The default version of TensorFlow in Colab will soon switch to TensorFlow 2.x.<br>\n",
              "We recommend you <a href=\"https://www.tensorflow.org/guide/migrate\" target=\"_blank\">upgrade</a> now \n",
              "or ensure your notebook will continue to use TensorFlow 1.x via the <code>%tensorflow_version 1.x</code> magic:\n",
              "<a href=\"https://colab.research.google.com/notebooks/tensorflow_version.ipynb\" target=\"_blank\">more info</a>.</p>\n"
            ],
            "text/plain": [
              "<IPython.core.display.HTML object>"
            ]
          },
          "metadata": {
            "tags": []
          }
        }
      ]
    },
    {
      "cell_type": "code",
      "metadata": {
        "id": "KeIx-drEqyLx",
        "colab_type": "code",
        "colab": {}
      },
      "source": [
        "datos=pd.read_csv('TRM.csv', decimal=',',parse_dates=['Fecha (dd/mm/aaaa)'],index_col=['Fecha (dd/mm/aaaa)'], usecols=[1,2])\n"
      ],
      "execution_count": 0,
      "outputs": []
    },
    {
      "cell_type": "code",
      "metadata": {
        "id": "3w9Z5FB1xhYC",
        "colab_type": "code",
        "outputId": "fc4d39cb-79df-49b7-90c9-b346428c051a",
        "colab": {
          "base_uri": "https://localhost:8080/",
          "height": 235
        }
      },
      "source": [
        "datos.head()"
      ],
      "execution_count": 3,
      "outputs": [
        {
          "output_type": "execute_result",
          "data": {
            "text/html": [
              "<div>\n",
              "<style scoped>\n",
              "    .dataframe tbody tr th:only-of-type {\n",
              "        vertical-align: middle;\n",
              "    }\n",
              "\n",
              "    .dataframe tbody tr th {\n",
              "        vertical-align: top;\n",
              "    }\n",
              "\n",
              "    .dataframe thead th {\n",
              "        text-align: right;\n",
              "    }\n",
              "</style>\n",
              "<table border=\"1\" class=\"dataframe\">\n",
              "  <thead>\n",
              "    <tr style=\"text-align: right;\">\n",
              "      <th></th>\n",
              "      <th>TRM</th>\n",
              "    </tr>\n",
              "    <tr>\n",
              "      <th>Fecha (dd/mm/aaaa)</th>\n",
              "      <th></th>\n",
              "    </tr>\n",
              "  </thead>\n",
              "  <tbody>\n",
              "    <tr>\n",
              "      <th>2020-01-22</th>\n",
              "      <td>3347.91</td>\n",
              "    </tr>\n",
              "    <tr>\n",
              "      <th>2020-01-21</th>\n",
              "      <td>3320.77</td>\n",
              "    </tr>\n",
              "    <tr>\n",
              "      <th>2020-01-20</th>\n",
              "      <td>3320.77</td>\n",
              "    </tr>\n",
              "    <tr>\n",
              "      <th>2020-01-19</th>\n",
              "      <td>3320.77</td>\n",
              "    </tr>\n",
              "    <tr>\n",
              "      <th>2020-01-18</th>\n",
              "      <td>3320.77</td>\n",
              "    </tr>\n",
              "  </tbody>\n",
              "</table>\n",
              "</div>"
            ],
            "text/plain": [
              "                        TRM\n",
              "Fecha (dd/mm/aaaa)         \n",
              "2020-01-22          3347.91\n",
              "2020-01-21          3320.77\n",
              "2020-01-20          3320.77\n",
              "2020-01-19          3320.77\n",
              "2020-01-18          3320.77"
            ]
          },
          "metadata": {
            "tags": []
          },
          "execution_count": 3
        }
      ]
    },
    {
      "cell_type": "code",
      "metadata": {
        "id": "9LZobVuzsxXk",
        "colab_type": "code",
        "colab": {}
      },
      "source": [
        "train, test = datos[:-12],datos[-12:]"
      ],
      "execution_count": 0,
      "outputs": []
    },
    {
      "cell_type": "code",
      "metadata": {
        "id": "t6gr2ioyt3zz",
        "colab_type": "code",
        "colab": {}
      },
      "source": [
        "#SKLEARN \n",
        "scaler= MinMaxScaler()\n",
        "scaler.fit(train)\n",
        "train=scaler.transform(train)\n",
        "test=scaler.transform(test)"
      ],
      "execution_count": 0,
      "outputs": []
    },
    {
      "cell_type": "code",
      "metadata": {
        "id": "koRqiQLqyjxI",
        "colab_type": "code",
        "colab": {}
      },
      "source": [
        "niput=12\n",
        "nfeat=1\n",
        "generator=TimeseriesGenerator(train, train,length=niput, batch_size=6)\n",
        "\n",
        "model=Sequential()\n",
        "model.add(LSTM(200, activation='relu', input_shape=(niput,nfeat)))\n",
        "model.add(Dropout(0.15))\n",
        "model.add(Dense(1))\n",
        "model.compile(optimizer='adam',loss='mse')\n",
        "\n",
        "model.fit_generator(generator, epochs=180)"
      ],
      "execution_count": 0,
      "outputs": []
    },
    {
      "cell_type": "code",
      "metadata": {
        "id": "5AS3Hc9yB-V0",
        "colab_type": "code",
        "colab": {}
      },
      "source": [
        "prde=[]\n",
        "batch=train[-niput:].reshape((1, niput,nfeat))\n",
        "for _ in range(niput):\n",
        "  prde.append(model.predict(batch)[0])\n",
        "  batch=np.append(batch[:,1:,:],[[prde[_]]],axis=1)"
      ],
      "execution_count": 0,
      "outputs": []
    },
    {
      "cell_type": "code",
      "metadata": {
        "id": "lP0zXBdZDYbq",
        "colab_type": "code",
        "colab": {}
      },
      "source": [
        "dfpre=pd.DataFrame(scaler.inverse_transform(prde),index=datos[-niput:].index, columns=['Pre'])\n",
        "\n",
        "dftest=pd.concat([datos,dfpre],axis=1)"
      ],
      "execution_count": 0,
      "outputs": []
    },
    {
      "cell_type": "code",
      "metadata": {
        "id": "pk7E1ZXWFjrw",
        "colab_type": "code",
        "outputId": "9d7cc12b-9d3e-4d60-db62-11ea2720d3d7",
        "colab": {
          "base_uri": "https://localhost:8080/",
          "height": 235
        }
      },
      "source": [
        "dftest.head()"
      ],
      "execution_count": 0,
      "outputs": [
        {
          "output_type": "execute_result",
          "data": {
            "text/html": [
              "<div>\n",
              "<style scoped>\n",
              "    .dataframe tbody tr th:only-of-type {\n",
              "        vertical-align: middle;\n",
              "    }\n",
              "\n",
              "    .dataframe tbody tr th {\n",
              "        vertical-align: top;\n",
              "    }\n",
              "\n",
              "    .dataframe thead th {\n",
              "        text-align: right;\n",
              "    }\n",
              "</style>\n",
              "<table border=\"1\" class=\"dataframe\">\n",
              "  <thead>\n",
              "    <tr style=\"text-align: right;\">\n",
              "      <th></th>\n",
              "      <th>TRM</th>\n",
              "      <th>Pre</th>\n",
              "    </tr>\n",
              "    <tr>\n",
              "      <th>Fecha (dd/mm/aaaa)</th>\n",
              "      <th></th>\n",
              "      <th></th>\n",
              "    </tr>\n",
              "  </thead>\n",
              "  <tbody>\n",
              "    <tr>\n",
              "      <th>2010-01-22</th>\n",
              "      <td>1967.08</td>\n",
              "      <td>1994.021024</td>\n",
              "    </tr>\n",
              "    <tr>\n",
              "      <th>2010-01-23</th>\n",
              "      <td>1981.96</td>\n",
              "      <td>1992.306986</td>\n",
              "    </tr>\n",
              "    <tr>\n",
              "      <th>2010-01-24</th>\n",
              "      <td>1981.96</td>\n",
              "      <td>1990.554457</td>\n",
              "    </tr>\n",
              "    <tr>\n",
              "      <th>2010-01-25</th>\n",
              "      <td>1981.96</td>\n",
              "      <td>1988.760451</td>\n",
              "    </tr>\n",
              "    <tr>\n",
              "      <th>2010-01-26</th>\n",
              "      <td>1961.97</td>\n",
              "      <td>1986.877304</td>\n",
              "    </tr>\n",
              "  </tbody>\n",
              "</table>\n",
              "</div>"
            ],
            "text/plain": [
              "                        TRM          Pre\n",
              "Fecha (dd/mm/aaaa)                      \n",
              "2010-01-22          1967.08  1994.021024\n",
              "2010-01-23          1981.96  1992.306986\n",
              "2010-01-24          1981.96  1990.554457\n",
              "2010-01-25          1981.96  1988.760451\n",
              "2010-01-26          1961.97  1986.877304"
            ]
          },
          "metadata": {
            "tags": []
          },
          "execution_count": 50
        }
      ]
    },
    {
      "cell_type": "code",
      "metadata": {
        "id": "yQKJd2JlEsCh",
        "colab_type": "code",
        "outputId": "92179a39-c575-40d7-c945-e55c946d070e",
        "colab": {
          "base_uri": "https://localhost:8080/",
          "height": 282
        }
      },
      "source": [
        "plt.plot(dftest['TRM'])\n",
        "plt.plot(dftest['Pre'], color='r')"
      ],
      "execution_count": 0,
      "outputs": [
        {
          "output_type": "execute_result",
          "data": {
            "text/plain": [
              "[<matplotlib.lines.Line2D at 0x7f9a98938b00>]"
            ]
          },
          "metadata": {
            "tags": []
          },
          "execution_count": 52
        },
        {
          "output_type": "display_data",
          "data": {
            "image/png": "[encoded data removed]",
            "text/plain": [
              "<Figure size 432x288 with 1 Axes>"
            ]
          },
          "metadata": {
            "tags": []
          }
        }
      ]
    }
  ]
}