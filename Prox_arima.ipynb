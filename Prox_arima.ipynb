{
  "nbformat": 4,
  "nbformat_minor": 0,
  "metadata": {
    "colab": {
      "name": "Prox_arima.ipynb",
      "provenance": [],
      "collapsed_sections": [],
      "authorship_tag": "ABX9TyME13TG5IXUlG3IQqDmmtPY",
      "include_colab_link": true
    },
    "kernelspec": {
      "name": "python3",
      "display_name": "Python 3"
    }
  },
  "cells": [
    {
      "cell_type": "markdown",
      "metadata": {
        "id": "view-in-github",
        "colab_type": "text"
      },
      "source": [
        "<a href=\"https://colab.research.google.com/github/MrCamilo5/ML-aprender-3/blob/master/Prox_arima.ipynb\" target=\"_parent\"><img src=\"https://colab.research.google.com/assets/colab-badge.svg\" alt=\"Open In Colab\"/></a>"
      ]
    },
    {
      "cell_type": "code",
      "metadata": {
        "id": "tn4PCLokBDq1",
        "colab_type": "code",
        "colab": {
          "base_uri": "https://localhost:8080/",
          "height": 419
        },
        "outputId": "159e6996-8597-47d9-cacd-d7ecdd5b4830"
      },
      "source": [
        "import pandas as pd\n",
        "import matplotlib.pyplot as plt\n",
        "\n",
        "datos=pd.read_csv('precios.csv',decimal=',')\n",
        "datos"
      ],
      "execution_count": 37,
      "outputs": [
        {
          "output_type": "execute_result",
          "data": {
            "text/html": [
              "<div>\n",
              "<style scoped>\n",
              "    .dataframe tbody tr th:only-of-type {\n",
              "        vertical-align: middle;\n",
              "    }\n",
              "\n",
              "    .dataframe tbody tr th {\n",
              "        vertical-align: top;\n",
              "    }\n",
              "\n",
              "    .dataframe thead th {\n",
              "        text-align: right;\n",
              "    }\n",
              "</style>\n",
              "<table border=\"1\" class=\"dataframe\">\n",
              "  <thead>\n",
              "    <tr style=\"text-align: right;\">\n",
              "      <th></th>\n",
              "      <th>Año</th>\n",
              "      <th>texto</th>\n",
              "      <th>Día del Mes</th>\n",
              "      <th>Fecha (DD/MM/AAAA)</th>\n",
              "      <th>Fecha (AAAAMMDD)</th>\n",
              "      <th>Nombre del Mes</th>\n",
              "      <th>Metal</th>\n",
              "      <th>Precio de Compra</th>\n",
              "      <th>Precio de Venta</th>\n",
              "    </tr>\n",
              "  </thead>\n",
              "  <tbody>\n",
              "    <tr>\n",
              "      <th>0</th>\n",
              "      <td>2020</td>\n",
              "      <td>Pesos Colombianos</td>\n",
              "      <td>1</td>\n",
              "      <td>2020-01-01</td>\n",
              "      <td>20200101</td>\n",
              "      <td>Enero</td>\n",
              "      <td>Oro</td>\n",
              "      <td>147270.97</td>\n",
              "      <td>160077.14</td>\n",
              "    </tr>\n",
              "    <tr>\n",
              "      <th>1</th>\n",
              "      <td>2020</td>\n",
              "      <td>Pesos Colombianos</td>\n",
              "      <td>1</td>\n",
              "      <td>2020-01-01</td>\n",
              "      <td>20200101</td>\n",
              "      <td>Enero</td>\n",
              "      <td>Plata</td>\n",
              "      <td>1510.22</td>\n",
              "      <td>1887.78</td>\n",
              "    </tr>\n",
              "    <tr>\n",
              "      <th>2</th>\n",
              "      <td>2020</td>\n",
              "      <td>Pesos Colombianos</td>\n",
              "      <td>1</td>\n",
              "      <td>2020-01-01</td>\n",
              "      <td>20200101</td>\n",
              "      <td>Enero</td>\n",
              "      <td>Platino</td>\n",
              "      <td>96620.55</td>\n",
              "      <td>100187.21</td>\n",
              "    </tr>\n",
              "    <tr>\n",
              "      <th>3</th>\n",
              "      <td>2020</td>\n",
              "      <td>Pesos Colombianos</td>\n",
              "      <td>2</td>\n",
              "      <td>2020-01-02</td>\n",
              "      <td>20200102</td>\n",
              "      <td>Enero</td>\n",
              "      <td>Oro</td>\n",
              "      <td>146829.99</td>\n",
              "      <td>159597.81</td>\n",
              "    </tr>\n",
              "    <tr>\n",
              "      <th>4</th>\n",
              "      <td>2020</td>\n",
              "      <td>Pesos Colombianos</td>\n",
              "      <td>2</td>\n",
              "      <td>2020-01-02</td>\n",
              "      <td>20200102</td>\n",
              "      <td>Enero</td>\n",
              "      <td>Plata</td>\n",
              "      <td>1521.02</td>\n",
              "      <td>1901.27</td>\n",
              "    </tr>\n",
              "    <tr>\n",
              "      <th>...</th>\n",
              "      <td>...</td>\n",
              "      <td>...</td>\n",
              "      <td>...</td>\n",
              "      <td>...</td>\n",
              "      <td>...</td>\n",
              "      <td>...</td>\n",
              "      <td>...</td>\n",
              "      <td>...</td>\n",
              "      <td>...</td>\n",
              "    </tr>\n",
              "    <tr>\n",
              "      <th>28535</th>\n",
              "      <td>1994</td>\n",
              "      <td>Pesos Colombianos</td>\n",
              "      <td>30</td>\n",
              "      <td>1994-12-30</td>\n",
              "      <td>19941230</td>\n",
              "      <td>Diciembre</td>\n",
              "      <td>Plata</td>\n",
              "      <td>NaN</td>\n",
              "      <td>NaN</td>\n",
              "    </tr>\n",
              "    <tr>\n",
              "      <th>28536</th>\n",
              "      <td>1994</td>\n",
              "      <td>Pesos Colombianos</td>\n",
              "      <td>30</td>\n",
              "      <td>1994-12-30</td>\n",
              "      <td>19941230</td>\n",
              "      <td>Diciembre</td>\n",
              "      <td>Platino</td>\n",
              "      <td>NaN</td>\n",
              "      <td>NaN</td>\n",
              "    </tr>\n",
              "    <tr>\n",
              "      <th>28537</th>\n",
              "      <td>1994</td>\n",
              "      <td>Pesos Colombianos</td>\n",
              "      <td>31</td>\n",
              "      <td>1994-12-31</td>\n",
              "      <td>19941231</td>\n",
              "      <td>Diciembre</td>\n",
              "      <td>Oro</td>\n",
              "      <td>9774.14</td>\n",
              "      <td>10697.15</td>\n",
              "    </tr>\n",
              "    <tr>\n",
              "      <th>28538</th>\n",
              "      <td>1994</td>\n",
              "      <td>Pesos Colombianos</td>\n",
              "      <td>31</td>\n",
              "      <td>1994-12-31</td>\n",
              "      <td>19941231</td>\n",
              "      <td>Diciembre</td>\n",
              "      <td>Plata</td>\n",
              "      <td>NaN</td>\n",
              "      <td>NaN</td>\n",
              "    </tr>\n",
              "    <tr>\n",
              "      <th>28539</th>\n",
              "      <td>1994</td>\n",
              "      <td>Pesos Colombianos</td>\n",
              "      <td>31</td>\n",
              "      <td>1994-12-31</td>\n",
              "      <td>19941231</td>\n",
              "      <td>Diciembre</td>\n",
              "      <td>Platino</td>\n",
              "      <td>NaN</td>\n",
              "      <td>NaN</td>\n",
              "    </tr>\n",
              "  </tbody>\n",
              "</table>\n",
              "<p>28540 rows × 9 columns</p>\n",
              "</div>"
            ],
            "text/plain": [
              "        Año              texto  ...  Precio de Compra Precio de Venta\n",
              "0      2020  Pesos Colombianos  ...         147270.97       160077.14\n",
              "1      2020  Pesos Colombianos  ...           1510.22         1887.78\n",
              "2      2020  Pesos Colombianos  ...          96620.55       100187.21\n",
              "3      2020  Pesos Colombianos  ...         146829.99       159597.81\n",
              "4      2020  Pesos Colombianos  ...           1521.02         1901.27\n",
              "...     ...                ...  ...               ...             ...\n",
              "28535  1994  Pesos Colombianos  ...               NaN             NaN\n",
              "28536  1994  Pesos Colombianos  ...               NaN             NaN\n",
              "28537  1994  Pesos Colombianos  ...           9774.14        10697.15\n",
              "28538  1994  Pesos Colombianos  ...               NaN             NaN\n",
              "28539  1994  Pesos Colombianos  ...               NaN             NaN\n",
              "\n",
              "[28540 rows x 9 columns]"
            ]
          },
          "metadata": {
            "tags": []
          },
          "execution_count": 37
        }
      ]
    },
    {
      "cell_type": "code",
      "metadata": {
        "id": "EJDbjM5xFvUW",
        "colab_type": "code",
        "colab": {}
      },
      "source": [
        "x=datos.iloc[:,[7,8]].values"
      ],
      "execution_count": 0,
      "outputs": []
    },
    {
      "cell_type": "code",
      "metadata": {
        "id": "DIQrMkxAICCC",
        "colab_type": "code",
        "colab": {}
      },
      "source": [
        "X1=x[:len(x)-1,0].reshape(9513,3) #Compra\n",
        "X2=x[:len(x)-1,1].reshape(9513,3) #Venta"
      ],
      "execution_count": 0,
      "outputs": []
    },
    {
      "cell_type": "code",
      "metadata": {
        "id": "79tkTVg2ToNm",
        "colab_type": "code",
        "colab": {}
      },
      "source": [
        "x1=X1[~np.isnan(X1).any(axis=1)]\n",
        "x2=X2[~np.isnan(X1).any(axis=1)]"
      ],
      "execution_count": 0,
      "outputs": []
    },
    {
      "cell_type": "code",
      "metadata": {
        "id": "K6YwkyvncQBC",
        "colab_type": "code",
        "colab": {
          "base_uri": "https://localhost:8080/",
          "height": 894
        },
        "outputId": "0eef9ed5-8010-409e-dbd1-8c8f749c9eaa"
      },
      "source": [
        "plt.figure(figsize=(15,15))\n",
        "plt.scatter(x1[:,0],x2[:,0], color='gray', marker='o', label='Oro')\n",
        "plt.scatter(x1[:,1],x2[:,1], color='red', marker='x', label='Plata')\n",
        "plt.scatter(x1[:,2],x2[:,2], color='blue', marker='^', label='Platino')\n",
        "plt.ylabel('Precio de Compra')\n",
        "plt.xlabel('Precio de venta')\n",
        "plt.legend()"
      ],
      "execution_count": 147,
      "outputs": [
        {
          "output_type": "execute_result",
          "data": {
            "text/plain": [
              "<matplotlib.legend.Legend at 0x7f146c198630>"
            ]
          },
          "metadata": {
            "tags": []
          },
          "execution_count": 147
        },
        {
          "output_type": "display_data",
          "data": {
            "image/png": "[encoded data removed]",
            "text/plain": [
              "<Figure size 1080x1080 with 1 Axes>"
            ]
          },
          "metadata": {
            "tags": []
          }
        }
      ]
    },
    {
      "cell_type": "code",
      "metadata": {
        "id": "7GWKnJnnUnJi",
        "colab_type": "code",
        "colab": {
          "base_uri": "https://localhost:8080/",
          "height": 34
        },
        "outputId": "d0fd66ac-830b-4fca-a827-b9a2538b12f9"
      },
      "source": [
        "from sklearn import linear_model\n",
        "import matplotlib.pyplot as plt\n",
        "from mpl_toolkits.mplot3d import Axes3D\n",
        "r=linear_model.LinearRegression()\n",
        "r.fit(x1,x2)"
      ],
      "execution_count": 103,
      "outputs": [
        {
          "output_type": "execute_result",
          "data": {
            "text/plain": [
              "LinearRegression(copy_X=True, fit_intercept=True, n_jobs=None, normalize=False)"
            ]
          },
          "metadata": {
            "tags": []
          },
          "execution_count": 103
        }
      ]
    },
    {
      "cell_type": "code",
      "metadata": {
        "id": "1RIuqt_NVJMw",
        "colab_type": "code",
        "colab": {
          "base_uri": "https://localhost:8080/",
          "height": 68
        },
        "outputId": "90abbc7a-f3b2-4e73-d2b6-47c7f503ba75"
      },
      "source": [
        "print(r.coef_,r.intercept_)"
      ],
      "execution_count": 104,
      "outputs": [
        {
          "output_type": "stream",
          "text": [
            "[[ 1.06513612 -0.02958133  0.03284352]\n",
            " [ 0.01217275  1.07151551 -0.00920771]\n",
            " [-0.01867849  0.02220279  1.06488382]] [ -437.14306773 -1392.16055243   273.84012485]\n"
          ],
          "name": "stdout"
        }
      ]
    },
    {
      "cell_type": "code",
      "metadata": {
        "id": "tuemamdjV-cA",
        "colab_type": "code",
        "colab": {
          "base_uri": "https://localhost:8080/",
          "height": 34
        },
        "outputId": "19197bd7-553f-497f-abf6-840b410bfe4e"
      },
      "source": [
        "r.predict([[160077.14,1887.78,100187.21]])"
      ],
      "execution_count": 109,
      "outputs": [
        {
          "output_type": "execute_result",
          "data": {
            "text/plain": [
              "array([[173301.45808087,   1656.70909906, 104013.49324756]])"
            ]
          },
          "metadata": {
            "tags": []
          },
          "execution_count": 109
        }
      ]
    }
  ]
}